{
 "cells": [
  {
   "cell_type": "markdown",
   "id": "30892f64-d1a7-4433-8c53-50da497cda52",
   "metadata": {},
   "source": [
    "# CTA200H 2023 Assignment 2"
   ]
  },
  {
   "cell_type": "code",
   "execution_count": 47,
   "id": "f02570d0-866a-4ce4-b7f2-a7bdbeb36258",
   "metadata": {},
   "outputs": [],
   "source": [
    "import sympy as sym\n",
    "import numpy as np\n",
    "import matplotlib.pyplot as plt"
   ]
  },
  {
   "cell_type": "markdown",
   "id": "bbb5308e-0953-4177-b3f0-e013c2c9dd60",
   "metadata": {},
   "source": [
    "## Part 1\n",
    "- Write a python function for the function $f(x) = x^3 − x^2 − 1$. Also, write a function for it’s derivative, you can call these functions ‘f’ and ‘df’."
   ]
  },
  {
   "cell_type": "code",
   "execution_count": 62,
   "id": "f485ffb3-c48e-4529-8911-a4215c2e8276",
   "metadata": {},
   "outputs": [],
   "source": [
    "def f(x_eval):\n",
    "    '''\n",
    "    Simple function returned.\n",
    "    '''\n",
    "    f = x_eval**3 - x_eval**2 - 1\n",
    "    return f\n",
    "\n",
    "def df(x_eval):\n",
    "    '''\n",
    "    Derivative of simple function above returned.\n",
    "    '''\n",
    "    x =sym.Symbol('x')\n",
    "    f = x**3 - x**2 - 1\n",
    "    df = sym.diff(f)\n",
    "    df_eval = float(df.evalf(subs={x: x_eval}))\n",
    "    return df_eval"
   ]
  },
  {
   "cell_type": "markdown",
   "id": "bbdef829-0430-42ea-adb4-2d0dd53960ab",
   "metadata": {},
   "source": [
    "## Part 2\n",
    "- Write a function ‘newton(f, df, x0, epsilon=1e-6, max iter=30)’ which performs a Newton Iteration of the\n",
    "function ‘f’ with derivative ‘df’.\n",
    "\n",
    "- Newton iteration finds the root ($x_n$ such that $f(x_n) = 0$).\n",
    "\n",
    "- To do this, implement the recursive expression x_{n+1} = x_n−\\frac{f(x_n)}{f'(x_n)}$ using a loop.\n",
    "\n",
    "- The iteration should stop either when ‘max iter’ is exceeded or when $|f(x_n)| < \\epsilon$.\n",
    "\n",
    "- If the method succeeds, (ie $|f(x_n) < \\epsilon$), then your function should print \"Found root in ¡N¿ iterations\" and should return the value of x_n. Otherwise, it should print ‘”Iteration failed”’ and return ‘None’. \n",
    "\n",
    "- Make sure that your function is documented with Numpy style documentation."
   ]
  },
  {
   "cell_type": "code",
   "execution_count": 29,
   "id": "9eea88c2-a261-4d2d-92a2-324ab67e68d7",
   "metadata": {},
   "outputs": [],
   "source": [
    "def newton(f, df, x0, epsilon=1e-6, max_iter=30):\n",
    "    '''\n",
    "    Performs a Newton Iteration of the function ‘f’ \n",
    "    with derivative ‘df’.\n",
    "    \n",
    "    Inputs\n",
    "    -----------------------------------------------\n",
    "    f: function to search for roots\n",
    "    df: derivative of f\n",
    "    x0: intial guess of root\n",
    "    epsilon: absolute tolerance\n",
    "    max_iter: maximum iterations of Newton's method\n",
    "    \n",
    "    Outputs\n",
    "    -----------------------------------------------\n",
    "    x_fin: final root.\n",
    "    '''\n",
    "    x = x0\n",
    "    itr = 0\n",
    "    func_status = \"Iteration failed\"\n",
    "    x_fin = None\n",
    "    while itr <= max_iter:\n",
    "        if np.abs(f(x))<epsilon:\n",
    "            func_status = \"Found root in {} iterations\".format(itr)\n",
    "            x_fin = x\n",
    "            break\n",
    "        else:\n",
    "            x_new = x - f(x)/df(x)\n",
    "            x = x_new\n",
    "            itr+=1\n",
    "    \n",
    "    print(func_status)\n",
    "    \n",
    "    return x_fin"
   ]
  },
  {
   "cell_type": "markdown",
   "id": "3e5feda6-636e-471f-98d5-d8000dd19cb7",
   "metadata": {},
   "source": [
    "## Part 3\n",
    "- Try out your function with the function you defined in part 1. You can experiment with setting $x_0$ differently\n",
    "(show at least two examples of $x_0$ in the notebook). Leave epsilon and ‘max_iter’ as the default values specified\n",
    "in part 2.\n",
    "\n",
    "- Try reducing ‘epsilon’ to 1e-8. Does it still work? If so, how many more iterations does it take to converge"
   ]
  },
  {
   "cell_type": "code",
   "execution_count": 30,
   "id": "a701d15c-596f-4de4-ac56-8854f1cec8d3",
   "metadata": {},
   "outputs": [
    {
     "name": "stdout",
     "output_type": "stream",
     "text": [
      "Found root in 9 iterations\n"
     ]
    },
    {
     "data": {
      "text/plain": [
       "1.465571232470246"
      ]
     },
     "execution_count": 30,
     "metadata": {},
     "output_type": "execute_result"
    }
   ],
   "source": [
    "# Test 1 x_0 = 10\n",
    "x0 = 10\n",
    "newton(f, df, x0, epsilon=1e-6, max_iter=30)"
   ]
  },
  {
   "cell_type": "code",
   "execution_count": 40,
   "id": "f93906ba-2e41-411d-bb1e-47e2d6d194b4",
   "metadata": {},
   "outputs": [
    {
     "name": "stdout",
     "output_type": "stream",
     "text": [
      "Found root in 26 iterations\n"
     ]
    },
    {
     "data": {
      "text/plain": [
       "1.4655712352599874"
      ]
     },
     "execution_count": 40,
     "metadata": {},
     "output_type": "execute_result"
    }
   ],
   "source": [
    "# Test 2 x_0 = 1000\n",
    "x0 = 1000\n",
    "newton(f, df, x0, epsilon=1e-6, max_iter=30)"
   ]
  },
  {
   "cell_type": "code",
   "execution_count": 42,
   "id": "8d56a7fe-fe2e-4185-9eb8-514e934de4f3",
   "metadata": {},
   "outputs": [
    {
     "name": "stdout",
     "output_type": "stream",
     "text": [
      "Found root in 21 iterations\n"
     ]
    },
    {
     "data": {
      "text/plain": [
       "1.4655712318767944"
      ]
     },
     "execution_count": 42,
     "metadata": {},
     "output_type": "execute_result"
    }
   ],
   "source": [
    "# Test 3 x_0 = 1000, epsilon = 1e-8\n",
    "x0 = 1000\n",
    "epsilon = 1.0e-8\n",
    "newton(f, df, x0, epsilon, max_iter=30)"
   ]
  },
  {
   "cell_type": "markdown",
   "id": "af18e0c9-dae0-4b27-a19e-16cc88215041",
   "metadata": {},
   "source": [
    "**It takes 1 more iteration for the function to converge.**"
   ]
  },
  {
   "cell_type": "code",
   "execution_count": 95,
   "id": "839bc339-2f82-40c1-b125-4534ff6d0f5e",
   "metadata": {},
   "outputs": [
    {
     "name": "stdout",
     "output_type": "stream",
     "text": [
      "Found root in 20 iterations\n",
      "Found root in 21 iterations\n"
     ]
    },
    {
     "data": {
      "image/png": "[encoded data removed]",
      "text/plain": [
       "<Figure size 640x480 with 1 Axes>"
      ]
     },
     "metadata": {},
     "output_type": "display_data"
    }
   ],
   "source": [
    "x = np.linspace(-10,10, 1000)\n",
    "y = f(x)\n",
    "\n",
    "fig, ax = plt.subplots(1)\n",
    "ax.plot(x,y,label=r\"$f(x) = x^3 − x^2 − 1$\", c='k')\n",
    "ax.scatter(newton(f, df, 1000, epsilon=1e-6, max_iter=30),0, c='C0', alpha=0.5,\n",
    "           label=r\"Estimate for $x0=1000$, $\\epsilon=1.0\\times10^{-6}$\")\n",
    "ax.scatter(newton(f, df, 1000, epsilon=1e-8, max_iter=30),0, c='C1', alpha=0.5,\n",
    "           label=r\"Estimate for $x0=1000$, $\\epsilon=1.0\\times10^{-8}$\")\n",
    "ax.axhline(y=0, ls='--', c = 'grey')\n",
    "ax.set_title(r'f(x) from $-10<x<10$')\n",
    "ax.set_xlabel('X')\n",
    "ax.set_ylabel('Y')\n",
    "ax.legend()\n",
    "ax.minorticks_on()\n",
    "\n",
    "plt.show()"
   ]
  }
 ],
 "metadata": {
  "kernelspec": {
   "display_name": "Python 3 (ipykernel)",
   "language": "python",
   "name": "python3"
  },
  "language_info": {
   "codemirror_mode": {
    "name": "ipython",
    "version": 3
   },
   "file_extension": ".py",
   "mimetype": "text/x-python",
   "name": "python",
   "nbconvert_exporter": "python",
   "pygments_lexer": "ipython3",
   "version": "3.9.13"
  }
 },
 "nbformat": 4,
 "nbformat_minor": 5
}
